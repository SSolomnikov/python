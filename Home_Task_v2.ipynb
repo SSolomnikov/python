{
 "cells": [
  {
   "cell_type": "code",
   "execution_count": null,
   "metadata": {},
   "outputs": [],
   "source": [
    "u_word = input('Введите слово ')\n",
    "\n",
    "if len(u_word)%2 == 0:\n",
    "    middle = int(len(u_word)/2)-1\n",
    "    nxt = middle+2\n",
    "    print (u_word[middle:nxt])\n",
    "else:\n",
    "    middle = int(len(u_word)//2)\n",
    "    nxt = middle+1\n",
    "    print (u_word[middle:nxt])\n",
    "\n"
   ]
  },
  {
   "cell_type": "code",
   "execution_count": null,
   "metadata": {},
   "outputs": [],
   "source": [
    "u_sum = 0\n",
    "u_num = 1\n",
    "while int(u_num) !=0:\n",
    "    u_num = 0\n",
    "    u_num = float(input('Введите число '))\n",
    "    u_sum = u_num+u_sum\n",
    "print ('Результат '+str(u_sum)"
   ]
  },
  {
   "cell_type": "code",
   "execution_count": null,
   "metadata": {},
   "outputs": [],
   "source": [
    "boys = ['Peter', 'Alex', 'John', 'Arthur', 'Richard']\n",
    "girls = ['Kate', 'Liza', 'Kira', 'Emma', 'Trisha']\n",
    "\n",
    "if len(boys)==len(girls):\n",
    "    i =0\n",
    "    while i <len(boys):\n",
    "        print (boys[i]+' и '+girls[i])\n",
    "        i+=1\n",
    "else:\n",
    "    print('Внимание, кто-то может остаться без пары!')"
   ]
  },
  {
   "cell_type": "code",
   "execution_count": 20,
   "metadata": {},
   "outputs": [
    {
     "name": "stdout",
     "output_type": "stream",
     "text": [
      "Thailand 23.9 C\n",
      "Germany 13.8 C\n",
      "Russia 3.7 C\n",
      "Poland 12.0 C\n"
     ]
    }
   ],
   "source": [
    "countries_temperature = [\n",
    "['Thailand', [75.2, 77, 78.8, 73.4, 68, 75.2, 77]],\n",
    "['Germany', [57.2, 55.4, 59, 59, 53.6]],\n",
    "['Russia', [35.6, 37.4, 39.2, 41, 42.8, 39.2, 35.6]],\n",
    "['Poland', [50, 50, 53.6, 57.2, 55.4, 55.4]]\n",
    "]\n",
    " \n",
    "for row in countries_temperature:\n",
    "    c = row[0]\n",
    "    t = row[1]\n",
    "    print(c+' '+str(round((((sum(t)/len(t)-32)*5)/9),1))+' C')\n",
    "\n",
    "\n"
   ]
  }
 ],
 "metadata": {
  "kernelspec": {
   "display_name": "Python 3",
   "language": "python",
   "name": "python3"
  },
  "language_info": {
   "codemirror_mode": {
    "name": "ipython",
    "version": 3
   },
   "file_extension": ".py",
   "mimetype": "text/x-python",
   "name": "python",
   "nbconvert_exporter": "python",
   "pygments_lexer": "ipython3",
   "version": "3.8.6"
  }
 },
 "nbformat": 4,
 "nbformat_minor": 4
}
