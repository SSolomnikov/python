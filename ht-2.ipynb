u_word = input('Введите слово ')

if len(u_word)%2 == 0:
    middle = int(len(u_word)/2)-1
    nxt = middle+2
    print (u_word[middle:nxt])
else:
    middle = int(len(u_word)//2)
    nxt = middle+1
    print (u_word[middle:nxt])


u_sum = 0
u_num = 1
while int(u_num) !=0:
    u_num = 0
    u_num = float(input('Введите число '))
    u_sum = u_num+u_sum
print ('Результат '+str(u_sum)

boys = ['Peter', 'Alex', 'John', 'Arthur', 'Richard']
girls = ['Kate', 'Liza', 'Kira', 'Emma', 'Trisha']

if len(boys)==len(girls):
    i =0
    while i <len(boys):
        print (boys[i]+' и '+girls[i])
        i+=1
else:
    print('Внимание, кто-то может остаться без пары!')

countries_temperature = [
['Thailand', [75.2, 77, 78.8, 73.4, 68, 75.2, 77]],
['Germany', [57.2, 55.4, 59, 59, 53.6]],
['Russia', [35.6, 37.4, 39.2, 41, 42.8, 39.2, 35.6]],
['Poland', [50, 50, 53.6, 57.2, 55.4, 55.4]]
]
 
for row in countries_temperature:
    c = row[0]
    t = row[1]
    print(c+' '+str(round((((sum(t)/len(t)-32)*5)/9),1))+' C')