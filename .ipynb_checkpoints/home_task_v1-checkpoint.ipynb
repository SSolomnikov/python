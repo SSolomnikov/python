{
 "cells": [
  {
   "cell_type": "code",
   "execution_count": null,
   "metadata": {},
   "outputs": [],
   "source": [
    "'''Проба пера'''\n",
    "print('Hellow world')"
   ]
  },
  {
   "cell_type": "code",
   "execution_count": null,
   "metadata": {},
   "outputs": [],
   "source": [
    "'''Задача 1'''\n",
    "phrase_1 = \"Насколько проще было бы писать программы, если бы не заказчики\"\n",
    "phrase_2 = \"640Кб должно хватить для любых задач. Билл Гейтс (по легенде)\"\n",
    "\n",
    "if phrase_1>phrase_2:\n",
    "    print('Фраза 1 длинее фразы 2')\n",
    "elif phrase_1<phrase_2:\n",
    "    print('Фраза 2 длинее фразы 1')   \n",
    "else:\n",
    "    print('Фразы равны')\n",
    "print('Конец программы')"
   ]
  },
  {
   "cell_type": "code",
   "execution_count": null,
   "metadata": {},
   "outputs": [],
   "source": [
    "'''Задача 2'''\n",
    "'''Алгоритм с wiki - проверям на кратность 400 - Високосный, \n",
    "                        потом кратность 100 - обычный \n",
    "                        и кратность 4 - високосный. \n",
    "                        Остальное - обычные года'''\n",
    "    user_input = int(input('Введите год  '))\n",
    "\n",
    "    if user_input%400 == 0:\n",
    "        print('Год високосный')\n",
    "    elif user_input%100 == 0:\n",
    "        print('Год обычный')\n",
    "    elif user_input%4 == 0:\n",
    "        print('Год високосный')\n",
    "    else:\n",
    "        print('Год обычный')"
   ]
  },
  {
   "cell_type": "code",
   "execution_count": null,
   "metadata": {},
   "outputs": [],
   "source": [
    "'''Задача 3'''\n",
    "u_day = int(input('Введите день (пример 30)  '))\n",
    "u_month = input('Введите месяц (пример Август)  ')\n",
    "\n",
    "if (u_day>=21 and u_day<=31 and u_month == 'Март') or (u_day>=1 and u_day<=20 and u_month == 'Апрель'):\n",
    "        print('Овен')\n",
    "elif (u_day>=21 and u_day<=30 and u_month == 'Апрель') or (u_day>=1 and u_day<=21 and u_month == 'Май'):\n",
    "        print('Телец')\n",
    "elif (u_day>=22 and u_day<=31 and u_month == 'Май') or (u_day>=1 and u_day<=21 and u_month == 'Июнь'):\n",
    "        print('Близнецы')\n",
    "elif (u_day>=22 and u_day<=30 and u_month == 'Июнь') or (u_day>=1 and u_day<=22 and u_month == 'Июль'):\n",
    "        print('Рак')\n",
    "elif (u_day>=23 and u_day<=31 and u_month == 'Июнь') or (u_day>=1 and u_day<=21 and u_month == 'Август'):\n",
    "        print('Лев')\n",
    "elif (u_day>=22 and u_day<=31 and u_month == 'Август') or (u_day>=1 and u_day<=23 and u_month == 'Сентябрь'):\n",
    "        print('Дева')\n",
    "elif (u_day>=24 and u_day<=30 and u_month == 'Сентябрь') or (u_day>=1 and u_day<=23 and u_month == 'Октябрь'):\n",
    "        print('Весы')\n",
    "elif (u_day>=24 and u_day<=31 and u_month == 'Октябрь') or (u_day>=1 and u_day<=22 and u_month == 'Ноябрь'):\n",
    "        print('Скорпион')\n",
    "elif (u_day>=24 and u_day<=30 and u_month == 'Ноябрь') or (u_day>=1 and u_day<=22 and u_month == 'Декабрь'):\n",
    "        print('Стрелец')\n",
    "elif (u_day>=23 and u_day<=31 and u_month == 'Декабрь') or (u_day>=1 and u_day<=20 and u_month == 'Январь'):\n",
    "        print('Козерог')\n",
    "elif (u_day>=21 and u_day<=28 and u_month == 'Январь') or (u_day>=1 and u_day<=19 and u_month == 'Фераль'):\n",
    "        print('Водолей')\n",
    "elif (u_day>=20 and u_day<=31 and u_month == 'Февраль') or (u_day>=1 and u_day<=20 and u_month == 'Март'):\n",
    "        print('Рыбы')\n",
    "else :\n",
    "        print('нет такой даты')"
   ]
  },
  {
   "cell_type": "markdown",
   "metadata": {},
   "source": []
  },
  {
   "cell_type": "code",
   "execution_count": null,
   "metadata": {},
   "outputs": [],
   "source": [
    "'''Задача 4'''\n",
    "'''В условии задачи 2 логических ошибки \n",
    "    коробка для лыж проверятся только по длинне \n",
    "    пограничная зона в 15х15х15 уходит в стандартную коробку номер 3 вместе с 15х59х15, как и 205х199х300 и тд'''\n",
    "u_wid = int(input('Введите ширину (см)  '))\n",
    "u_len = int(input('Введите длинну (см)  '))\n",
    "u_hei = int(input('Введите высоту (см)  '))\n",
    "\n",
    "if u_wid <15 and u_len <15 and u_hei <15:\n",
    "    print('Коробка номер 1')\n",
    "elif u_len>=200:\n",
    "    print('Упаковка для лыж')\n",
    "elif (u_wid >15 and u_wid<50) or (u_len >15 and u_len<50) or (u_hei >15 and u_hei<50):\n",
    "    print('Коробка номер 2')\n",
    "else:\n",
    "    print('Стандартная коробка номер 3')"
   ]
  },
  {
   "cell_type": "code",
   "execution_count": null,
   "metadata": {},
   "outputs": [],
   "source": [
    "'''Задача 5'''\n",
    "a = input('Введите номер билета  ')\n",
    "b = int(a[0])+int(a[1])+int(a[2])\n",
    "c = int(a[3])+int(a[4])+int(a[5])\n",
    "if c == b:\n",
    "  print('Счастливый билет')\n",
    "else:\n",
    "  print('Обычный билет')"
   ]
  },
  {
   "cell_type": "code",
   "execution_count": 8,
   "metadata": {},
   "outputs": [
    {
     "name": "stdout",
     "output_type": "stream",
     "text": [
      "Введите фигуру (Круг/Треугольник/Прямоугольник)  ПрЯмоугольник\n",
      "Введите длинну стороны А  1\n",
      "Введите длинну стороны В  2\n",
      "2\n"
     ]
    }
   ],
   "source": [
    "'''Задача 6'''\n",
    "u_fig = input('Введите фигуру (Круг/Треугольник/Прямоугольник)  ')\n",
    "import math\n",
    "if u_fig.lower() == 'круг':\n",
    "    u_par1 = int(input('Введите радиус круга  '))\n",
    "    \n",
    "    S = math.pi*(u_par1**2)\n",
    "    print(S)\n",
    "elif u_fig.lower() == 'треугольник':\n",
    "    u_par1 = int(input('Введите длинну стороны А  '))\n",
    "    u_par2 = int(input('Введите длинну стороны В  '))\n",
    "    u_par3 = int(input('Введите длинну стороны С  '))\n",
    "    \n",
    "    p = (a+b+c)/2\n",
    "    S = math.sqrt(p*(p-u_par1)*(p-u_par2)*(p-u_par3))\n",
    "    print(S)\n",
    "elif u_fig.lower() == 'прямоугольник':\n",
    "    u_par1 = int(input('Введите длинну стороны А  '))\n",
    "    u_par2 = int(input('Введите длинну стороны В  '))\n",
    "    \n",
    "    S = u_par1*u_par2\n",
    "    print(S)\n",
    "else:\n",
    "    print('не умею считать площадь заданной фигуры')"
   ]
  },
  {
   "cell_type": "markdown",
   "metadata": {},
   "source": [
    " "
   ]
  },
  {
   "cell_type": "code",
   "execution_count": null,
   "metadata": {},
   "outputs": [],
   "source": []
  },
  {
   "cell_type": "code",
   "execution_count": null,
   "metadata": {},
   "outputs": [],
   "source": []
  },
  {
   "cell_type": "code",
   "execution_count": null,
   "metadata": {},
   "outputs": [],
   "source": []
  },
  {
   "cell_type": "code",
   "execution_count": null,
   "metadata": {},
   "outputs": [],
   "source": []
  }
 ],
 "metadata": {
  "kernelspec": {
   "display_name": "Python 3",
   "language": "python",
   "name": "python3"
  },
  "language_info": {
   "codemirror_mode": {
    "name": "ipython",
    "version": 3
   },
   "file_extension": ".py",
   "mimetype": "text/x-python",
   "name": "python",
   "nbconvert_exporter": "python",
   "pygments_lexer": "ipython3",
   "version": "3.8.6"
  }
 },
 "nbformat": 4,
 "nbformat_minor": 4
}
