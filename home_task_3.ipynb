{
 "cells": [
  {
   "cell_type": "markdown",
   "metadata": {},
   "source": [
    "# Задание №3"
   ]
  },
  {
   "cell_type": "markdown",
   "metadata": {},
   "source": [
    "## Упражнение №1"
   ]
  },
  {
   "cell_type": "code",
   "execution_count": null,
   "metadata": {
    "scrolled": true
   },
   "outputs": [],
   "source": [
    "ids =  {\n",
    "        'user1': [213, 213, 213, 15, 213],\n",
    "        'user2': [54, 54, 119, 119, 119],\n",
    "        'user3': [213, 98, 98, 35]}\n",
    "\n",
    "ls=set()\n",
    "for item in ids.values():\n",
    "      for num in set(item):\n",
    "            ls.add(num)\n",
    "print(ls)\n",
    "##print(sorted(ls))"
   ]
  },
  {
   "cell_type": "markdown",
   "metadata": {},
   "source": [
    "## Упражнение №2"
   ]
  },
  {
   "cell_type": "code",
   "execution_count": null,
   "metadata": {},
   "outputs": [],
   "source": [
    "queries = [\n",
    "    'смотреть сериалы онлайн',\n",
    "    'новости спорта',\n",
    "    'афиша кино',\n",
    "    'курс доллара',\n",
    "    'сериалы этим летом',\n",
    "    'курс по питону',\n",
    "    'сериалы про спорт']\n",
    "cnt=0\n",
    "res_dict = {}\n",
    "for item in queries:\n",
    "    num = item.count(' ')+1\n",
    "    if num in res_dict:\n",
    "        res_dict[num] += 1\n",
    "    else:\n",
    "        res_dict[num] = 1\n",
    "    cnt+=1\n",
    "\n",
    "for many in res_dict.keys():\n",
    "    print(f\"Поисковых запросов, содержащих {many} слов(а): {round(res_dict[many]/cnt*100,2)}%\")"
   ]
  },
  {
   "cell_type": "markdown",
   "metadata": {},
   "source": [
    "## Упражнение №3"
   ]
  },
  {
   "cell_type": "code",
   "execution_count": 1,
   "metadata": {},
   "outputs": [
    {
     "name": "stdout",
     "output_type": "stream",
     "text": [
      "{'vk': {'revenue': 103, 'cost': 98, 'roi': 5.1}, 'yandex': {'revenue': 179, 'cost': 153, 'roi': 16.99}, 'facebook': {'revenue': 103, 'cost': 110, 'roi': -6.36}, 'adwords': {'revenue': 35, 'cost': 34, 'roi': 2.94}, 'twitter': {'revenue': 11, 'cost': 24, 'roi': -54.17}}\n"
     ]
    }
   ],
   "source": [
    "results = {\n",
    "    'vk':       {'revenue': 103, 'cost': 98},\n",
    "    'yandex':   {'revenue': 179, 'cost': 153},\n",
    "    'facebook': {'revenue': 103, 'cost': 110},\n",
    "    'adwords':  {'revenue': 35,  'cost': 34},\n",
    "    'twitter':  {'revenue': 11,  'cost': 24}}\n",
    "for item in results.values():\n",
    "    roi = round((item.get('revenue') / item.get('cost') - 1) * 100,2)\n",
    "    item['roi'] = roi\n",
    "print(results)"
   ]
  },
  {
   "cell_type": "markdown",
   "metadata": {},
   "source": [
    "## Упражнение №4"
   ]
  },
  {
   "cell_type": "code",
   "execution_count": null,
   "metadata": {},
   "outputs": [],
   "source": [
    "stats = {\n",
    "    'facebook': 55, \n",
    "    'yandex': 115, \n",
    "    'vk': 120, \n",
    "    'google': 99, \n",
    "    'email': 42, \n",
    "    'ok': 98}\n",
    "v_item=0\n",
    "for key,value in stats.items():\n",
    "    if v_item<=value:\n",
    "        v_item=value\n",
    "        k_item=key\n",
    "print(f\"Максимальный объем продаж на рекламном канале {k_item}\")"
   ]
  },
  {
   "cell_type": "markdown",
   "metadata": {},
   "source": [
    "## Упражнение №5"
   ]
  },
  {
   "cell_type": "code",
   "execution_count": 39,
   "metadata": {},
   "outputs": [
    {
     "name": "stdout",
     "output_type": "stream",
     "text": [
      "{'2018-01-01': {'yandex': {'cpc': 100}}}\n"
     ]
    }
   ],
   "source": [
    "import copy\n",
    "\n",
    "my_list = ['2018-01-01', 'yandex', 'cpc', 100]\n",
    "#my_list = ['a', 'b', 'c', 'd', 'e', 'f']\n",
    "\n",
    "my_dict={}\n",
    "result={}\n",
    "i=1\n",
    "key=my_list[-i-1]\n",
    "my_dict[key]=my_list[-i]\n",
    "\n",
    "while i<len(my_list)-1:\n",
    "    if key in result: del result[key]\n",
    "    key=my_list[-i-2]\n",
    "    result[key]=my_dict\n",
    "    my_dict=dict(result)\n",
    "    i+=1\n",
    "print(result)"
   ]
  },
  {
   "cell_type": "code",
   "execution_count": null,
   "metadata": {},
   "outputs": [],
   "source": []
  }
 ],
 "metadata": {
  "kernelspec": {
   "display_name": "Python 3",
   "language": "python",
   "name": "python3"
  },
  "language_info": {
   "codemirror_mode": {
    "name": "ipython",
    "version": 3
   },
   "file_extension": ".py",
   "mimetype": "text/x-python",
   "name": "python",
   "nbconvert_exporter": "python",
   "pygments_lexer": "ipython3",
   "version": "3.8.3"
  }
 },
 "nbformat": 4,
 "nbformat_minor": 4
}